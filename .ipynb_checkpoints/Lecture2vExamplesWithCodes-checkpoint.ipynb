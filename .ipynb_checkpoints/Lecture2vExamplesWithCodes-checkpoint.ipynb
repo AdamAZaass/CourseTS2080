{
 "cells": [
  {
   "cell_type": "markdown",
   "id": "4aa0be8c",
   "metadata": {},
   "source": [
    "## 1.1.1 Public member"
   ]
  },
  {
   "cell_type": "code",
   "execution_count": 2,
   "id": "e4207ab4",
   "metadata": {},
   "outputs": [],
   "source": [
    "class Employee:\n",
    "    #constructer\n",
    "    def __init__(self,name,salary,project):\n",
    "        self.name = name\n",
    "        self.salary = salary\n",
    "        self.project = project"
   ]
  },
  {
   "cell_type": "code",
   "execution_count": 3,
   "id": "7a6b4b7d",
   "metadata": {},
   "outputs": [
    {
     "ename": "TypeError",
     "evalue": "__init__() missing 1 required positional argument: 'project'",
     "output_type": "error",
     "traceback": [
      "\u001b[1;31m---------------------------------------------------------------------------\u001b[0m",
      "\u001b[1;31mTypeError\u001b[0m                                 Traceback (most recent call last)",
      "\u001b[1;32m~\\AppData\\Local\\Temp/ipykernel_20108/3393113115.py\u001b[0m in \u001b[0;36m<module>\u001b[1;34m\u001b[0m\n\u001b[0;32m      1\u001b[0m \u001b[1;31m#creating object of a class\u001b[0m\u001b[1;33m\u001b[0m\u001b[1;33m\u001b[0m\u001b[0m\n\u001b[1;32m----> 2\u001b[1;33m \u001b[0memp\u001b[0m \u001b[1;33m=\u001b[0m \u001b[0mEmployee\u001b[0m\u001b[1;33m(\u001b[0m\u001b[1;34m'Jessa'\u001b[0m\u001b[1;33m,\u001b[0m \u001b[1;36m10000\u001b[0m\u001b[1;33m)\u001b[0m\u001b[1;33m\u001b[0m\u001b[1;33m\u001b[0m\u001b[0m\n\u001b[0m\u001b[0;32m      3\u001b[0m \u001b[1;33m\u001b[0m\u001b[0m\n\u001b[0;32m      4\u001b[0m \u001b[1;31m#accessing private data members\u001b[0m\u001b[1;33m\u001b[0m\u001b[1;33m\u001b[0m\u001b[0m\n\u001b[0;32m      5\u001b[0m \u001b[0mprint\u001b[0m\u001b[1;33m(\u001b[0m\u001b[1;34m'Salary:'\u001b[0m\u001b[1;33m,\u001b[0m \u001b[0memp\u001b[0m\u001b[1;33m.\u001b[0m\u001b[0m__salary\u001b[0m\u001b[1;33m)\u001b[0m\u001b[1;33m\u001b[0m\u001b[1;33m\u001b[0m\u001b[0m\n",
      "\u001b[1;31mTypeError\u001b[0m: __init__() missing 1 required positional argument: 'project'"
     ]
    }
   ],
   "source": [
    "#creating object of a class\n",
    "emp = Employee('Jessa', 10000)\n",
    "\n",
    "#accessing private data members\n",
    "print('Salary:', emp.__salary)\n"
   ]
  },
  {
   "cell_type": "markdown",
   "id": "a15970f5",
   "metadata": {},
   "source": [
    "## 1.2 Abstraction\n",
    "An abstract class can have both abstract met"
   ]
  },
  {
   "cell_type": "code",
   "execution_count": 1,
   "id": "dd18ab9c",
   "metadata": {},
   "outputs": [],
   "source": [
    "from abc import ABC,abstractmethod\n",
    "class Animal(ABC):\n",
    "    #concrete method\n",
    "    #inherited\n",
    "    def sleep(self):\n",
    "        print(\"I am going to sleep in a while\")\n",
    "    \n",
    "    @abstractmethod\n",
    "    def sound(self):\n",
    "        print(\"This function is for defining the sound by any animal\")\n",
    "        \n",
    "        \n",
    "#Subclasses or child classes\n",
    "class Snake(Animal):\n",
    "    def sound(self):\n",
    "        print(\"I can hiss\")\n",
    "    \n",
    "\n",
    "class Dog(Animal):\n",
    "    def sound(self):\n",
    "        print(\"I can bark\")\n",
    "  \n",
    "        \n",
    "class Lion(Animal):\n",
    "    def sound(self):\n",
    "        print(\"I can roar\")\n",
    "   \n",
    "        \n",
    "class Cat(Animal):\n",
    "    def sound(self):\n",
    "        print(\"I can meow\")\n",
    "   \n",
    "        "
   ]
  },
  {
   "cell_type": "code",
   "execution_count": 12,
   "id": "fafe288b",
   "metadata": {},
   "outputs": [
    {
     "name": "stdout",
     "output_type": "stream",
     "text": [
      "I am going to sleep in a while\n",
      "I can meow\n",
      "I can hiss\n",
      "I am going to sleep in a while\n",
      "I can roar\n",
      "I am going to sleep in a while\n"
     ]
    }
   ],
   "source": [
    "c = Cat()\n",
    "c.sleep()\n",
    "c.sound()\n",
    "\n",
    "\n",
    "c = Snake()\n",
    "c.sound()\n",
    "c.sleep()\n",
    "\n",
    "\n",
    "c = Lion()\n",
    "c.sound()\n",
    "c.sleep()\n",
    "\n",
    "\n"
   ]
  },
  {
   "cell_type": "code",
   "execution_count": 14,
   "id": "9713153a",
   "metadata": {},
   "outputs": [
    {
     "name": "stdout",
     "output_type": "stream",
     "text": [
      "This function is for defining the sound by any animal\n",
      "I can squeak\n"
     ]
    }
   ],
   "source": [
    "class Rabbit(Animal):\n",
    "    def sound(self):\n",
    "        super().sound()\n",
    "        print(\"I can squeak\")\n",
    "c = Rabbit()\n",
    "c.sound()"
   ]
  },
  {
   "cell_type": "code",
   "execution_count": 15,
   "id": "164df7f4",
   "metadata": {},
   "outputs": [
    {
     "name": "stdout",
     "output_type": "stream",
     "text": [
      "I am going to sleep in a while\n"
     ]
    }
   ],
   "source": [
    "# Error since you can instantiate abstract class with creating a method\n",
    "class Deer(Animal):\n",
    "    def sound(self):\n",
    "        pass\n",
    "c = Deer()\n",
    "c.sound()\n",
    "c.sleep()\n"
   ]
  },
  {
   "cell_type": "markdown",
   "id": "37ed476a",
   "metadata": {},
   "source": [
    "# 1.3 Inheritance"
   ]
  },
  {
   "cell_type": "markdown",
   "id": "589f728d",
   "metadata": {},
   "source": [
    "### 1.3.1 Single member"
   ]
  },
  {
   "cell_type": "code",
   "execution_count": 16,
   "id": "cc59d23d",
   "metadata": {},
   "outputs": [
    {
     "name": "stdout",
     "output_type": "stream",
     "text": [
      "Hello parent\n",
      "Hello child\n"
     ]
    }
   ],
   "source": [
    "# single inheritance example\n",
    "\n",
    "class parent:    #parent class\n",
    "    def func1(self):\n",
    "        print(\"Hello parent\")\n",
    "        \n",
    "class child(parent):  #child class\n",
    "    def func2(self):  #we include the parent class\n",
    "        print(\"Hello child\")  #as an argument in the child, class\n",
    "        \n",
    "# Drive code\n",
    "test = child()  #object created\n",
    "test.func1()  #parent method called via child object\n",
    "test.func2()  #child method called"
   ]
  },
  {
   "cell_type": "markdown",
   "id": "173e74b5",
   "metadata": {},
   "source": [
    "### 1.3.2 Multiple member"
   ]
  },
  {
   "cell_type": "code",
   "execution_count": 17,
   "id": "9776201d",
   "metadata": {},
   "outputs": [
    {
     "name": "stdout",
     "output_type": "stream",
     "text": [
      "Hello Parent1\n",
      "Hello parent2\n",
      "Hello Child\n",
      "(<class '__main__.child'>, <class '__main__.parent1'>, <class '__main__.parent2'>, <class '__main__.parent3'>, <class 'object'>)\n"
     ]
    }
   ],
   "source": [
    "# python 3 syntax\n",
    "# multiple inheritance example\n",
    "\n",
    "class parent1:    #first parent class\n",
    "    def func1(self):\n",
    "        print(\"Hello Parent1\")\n",
    "        \n",
    "class parent2:    #second parent class\n",
    "    def func2(self):\n",
    "        print(\"Hello parent2\")\n",
    "        \n",
    "class parent3:    #third parent class\n",
    "    def func2(self):         #The function name is same as parent2\n",
    "        print(\"Hello Parent3\")\n",
    "        \n",
    "class child(parent1, parent2, parent3):  #child class\n",
    "    def func3(self):    #we include the parent class\n",
    "        print(\"Hello Child\")   #as an arguement comma separated\n",
    "        \n",
    "# Driver code\n",
    "test = child()   #object created\n",
    "test.func1()   # parent1 method called via child\n",
    "test.func2()    #parent2 method called cia child instead of parent3\n",
    "test.func3()    #child method called\n",
    "\n",
    "# to findt he order of classes visited by the child class, we  use __mro__ on the child class\n",
    "print(child.__mro__)"
   ]
  },
  {
   "cell_type": "markdown",
   "id": "8e7eb38b",
   "metadata": {},
   "source": [
    "#### issubclass() and isinstance() example"
   ]
  },
  {
   "cell_type": "code",
   "execution_count": 18,
   "id": "85bb134e",
   "metadata": {},
   "outputs": [
    {
     "name": "stdout",
     "output_type": "stream",
     "text": [
      "True\n",
      "False\n"
     ]
    }
   ],
   "source": [
    "class parent:    #parent class\n",
    "    def func1():\n",
    "        print(\"Hello Parent\")\n",
    "        \n",
    "class child(parent):   #child class\n",
    "    def func2(self):\n",
    "        print(\"Hello Child\")\n",
    "        \n",
    "print(issubclass(child,parent))  #checks if child is subclass of parent\n",
    "print(issubclass(parent,child))  #checks if parent is subclass of child\n",
    "\n",
    "A = child()   # objects initialized\n",
    "B = parent()\n",
    "\n",
    "print(isinstance(A,child))    #checks if A is instance of child\n",
    "print(isinstance(A,parent))    #checks if A is instance of parent\n",
    "print(isinstance(B,child))    #checks if B is instance of child\n",
    "print(isinstance(B,parent))    #checks if B is instance of parent"
   ]
  },
  {
   "cell_type": "code",
   "execution_count": 7,
   "id": "bbaa9e62",
   "metadata": {},
   "outputs": [
    {
     "ename": "IndentationError",
     "evalue": "unexpected indent (Temp/ipykernel_9016/162520623.py, line 22)",
     "output_type": "error",
     "traceback": [
      "\u001b[1;36m  File \u001b[1;32m\"C:\\Users\\adam_\\AppData\\Local\\Temp/ipykernel_9016/162520623.py\"\u001b[1;36m, line \u001b[1;32m22\u001b[0m\n\u001b[1;33m    print(shape_circle())\u001b[0m\n\u001b[1;37m    ^\u001b[0m\n\u001b[1;31mIndentationError\u001b[0m\u001b[1;31m:\u001b[0m unexpected indent\n"
     ]
    }
   ],
   "source": [
    "from math import pi\n",
    "class Shape:\n",
    "    def __init__(self, name):\n",
    "        self.name = name\n",
    "        \n",
    "    def area(self):\n",
    "        pass\n",
    "    def fact(self): \n",
    "        return \"i am a two-dimensional shape.\"\n",
    "    def __str__(self):\n",
    "        return self.name\n",
    "\n",
    "class Circle(Shape):\n",
    "    def __init__(self, radius):\n",
    "        super().__init__(\"Circle\")\n",
    "        self.radius = radius\n",
    "        \n",
    "        def area(self):\n",
    "            return pi*self.radius**2\n",
    "shape_circle = Circle(7)\n",
    "\n",
    "        print(shape_circle)\n",
    "        print(shape_circle.area())\n",
    "        print(shape_circle.fact())"
   ]
  },
  {
   "cell_type": "code",
   "execution_count": null,
   "id": "0d292d77",
   "metadata": {},
   "outputs": [],
   "source": []
  },
  {
   "cell_type": "code",
   "execution_count": null,
   "id": "1ad9b12a",
   "metadata": {},
   "outputs": [],
   "source": []
  },
  {
   "cell_type": "code",
   "execution_count": null,
   "id": "dfee715f",
   "metadata": {},
   "outputs": [],
   "source": []
  },
  {
   "cell_type": "code",
   "execution_count": null,
   "id": "3d6a32f1",
   "metadata": {},
   "outputs": [],
   "source": []
  },
  {
   "cell_type": "code",
   "execution_count": null,
   "id": "a3e6ec55",
   "metadata": {},
   "outputs": [],
   "source": []
  },
  {
   "cell_type": "code",
   "execution_count": null,
   "id": "2a3e9d0d",
   "metadata": {},
   "outputs": [],
   "source": []
  }
 ],
 "metadata": {
  "kernelspec": {
   "display_name": "Python 3 (ipykernel)",
   "language": "python",
   "name": "python3"
  },
  "language_info": {
   "codemirror_mode": {
    "name": "ipython",
    "version": 3
   },
   "file_extension": ".py",
   "mimetype": "text/x-python",
   "name": "python",
   "nbconvert_exporter": "python",
   "pygments_lexer": "ipython3",
   "version": "3.9.7"
  }
 },
 "nbformat": 4,
 "nbformat_minor": 5
}
